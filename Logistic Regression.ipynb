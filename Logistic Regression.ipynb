{
 "cells": [
  {
   "cell_type": "code",
   "execution_count": 17,
   "id": "03e9bdbe",
   "metadata": {},
   "outputs": [
    {
     "data": {
      "text/html": [
       "<div>\n",
       "<style scoped>\n",
       "    .dataframe tbody tr th:only-of-type {\n",
       "        vertical-align: middle;\n",
       "    }\n",
       "\n",
       "    .dataframe tbody tr th {\n",
       "        vertical-align: top;\n",
       "    }\n",
       "\n",
       "    .dataframe thead th {\n",
       "        text-align: right;\n",
       "    }\n",
       "</style>\n",
       "<table border=\"1\" class=\"dataframe\">\n",
       "  <thead>\n",
       "    <tr style=\"text-align: right;\">\n",
       "      <th></th>\n",
       "      <th>PassengerId</th>\n",
       "      <th>Survived</th>\n",
       "    </tr>\n",
       "  </thead>\n",
       "  <tbody>\n",
       "    <tr>\n",
       "      <th>0</th>\n",
       "      <td>892</td>\n",
       "      <td>0</td>\n",
       "    </tr>\n",
       "    <tr>\n",
       "      <th>1</th>\n",
       "      <td>893</td>\n",
       "      <td>1</td>\n",
       "    </tr>\n",
       "    <tr>\n",
       "      <th>2</th>\n",
       "      <td>894</td>\n",
       "      <td>0</td>\n",
       "    </tr>\n",
       "    <tr>\n",
       "      <th>3</th>\n",
       "      <td>895</td>\n",
       "      <td>0</td>\n",
       "    </tr>\n",
       "    <tr>\n",
       "      <th>4</th>\n",
       "      <td>896</td>\n",
       "      <td>1</td>\n",
       "    </tr>\n",
       "    <tr>\n",
       "      <th>5</th>\n",
       "      <td>897</td>\n",
       "      <td>0</td>\n",
       "    </tr>\n",
       "    <tr>\n",
       "      <th>6</th>\n",
       "      <td>898</td>\n",
       "      <td>1</td>\n",
       "    </tr>\n",
       "    <tr>\n",
       "      <th>7</th>\n",
       "      <td>899</td>\n",
       "      <td>0</td>\n",
       "    </tr>\n",
       "    <tr>\n",
       "      <th>8</th>\n",
       "      <td>900</td>\n",
       "      <td>1</td>\n",
       "    </tr>\n",
       "    <tr>\n",
       "      <th>9</th>\n",
       "      <td>901</td>\n",
       "      <td>0</td>\n",
       "    </tr>\n",
       "    <tr>\n",
       "      <th>10</th>\n",
       "      <td>902</td>\n",
       "      <td>0</td>\n",
       "    </tr>\n",
       "    <tr>\n",
       "      <th>11</th>\n",
       "      <td>903</td>\n",
       "      <td>0</td>\n",
       "    </tr>\n",
       "    <tr>\n",
       "      <th>12</th>\n",
       "      <td>904</td>\n",
       "      <td>1</td>\n",
       "    </tr>\n",
       "    <tr>\n",
       "      <th>13</th>\n",
       "      <td>905</td>\n",
       "      <td>0</td>\n",
       "    </tr>\n",
       "    <tr>\n",
       "      <th>14</th>\n",
       "      <td>906</td>\n",
       "      <td>1</td>\n",
       "    </tr>\n",
       "    <tr>\n",
       "      <th>15</th>\n",
       "      <td>907</td>\n",
       "      <td>1</td>\n",
       "    </tr>\n",
       "    <tr>\n",
       "      <th>16</th>\n",
       "      <td>908</td>\n",
       "      <td>0</td>\n",
       "    </tr>\n",
       "    <tr>\n",
       "      <th>17</th>\n",
       "      <td>909</td>\n",
       "      <td>0</td>\n",
       "    </tr>\n",
       "    <tr>\n",
       "      <th>18</th>\n",
       "      <td>910</td>\n",
       "      <td>1</td>\n",
       "    </tr>\n",
       "    <tr>\n",
       "      <th>19</th>\n",
       "      <td>911</td>\n",
       "      <td>1</td>\n",
       "    </tr>\n",
       "  </tbody>\n",
       "</table>\n",
       "</div>"
      ],
      "text/plain": [
       "    PassengerId  Survived\n",
       "0           892         0\n",
       "1           893         1\n",
       "2           894         0\n",
       "3           895         0\n",
       "4           896         1\n",
       "5           897         0\n",
       "6           898         1\n",
       "7           899         0\n",
       "8           900         1\n",
       "9           901         0\n",
       "10          902         0\n",
       "11          903         0\n",
       "12          904         1\n",
       "13          905         0\n",
       "14          906         1\n",
       "15          907         1\n",
       "16          908         0\n",
       "17          909         0\n",
       "18          910         1\n",
       "19          911         1"
      ]
     },
     "execution_count": 17,
     "metadata": {},
     "output_type": "execute_result"
    }
   ],
   "source": [
    "import pandas as pd\n",
    "import numpy as np\n",
    "import sklearn\n",
    "import seaborn as sns\n",
    "import matplotlib.pyplot as plt\n",
    "%matplotlib inline\n",
    "import math\n",
    "titanic_data=pd.read_csv(\"gender_submission.csv\")\n",
    "titanic_data.head(20)"
   ]
  },
  {
   "cell_type": "code",
   "execution_count": 5,
   "id": "d90229e1",
   "metadata": {},
   "outputs": [
    {
     "name": "stdout",
     "output_type": "stream",
     "text": [
      "# of passengers are 418\n"
     ]
    }
   ],
   "source": [
    "print(\"# of passengers are \" + str(len(titanic_data.index)))"
   ]
  },
  {
   "cell_type": "markdown",
   "id": "b5fabb64",
   "metadata": {},
   "source": [
    "#Analyzing Data\n"
   ]
  },
  {
   "cell_type": "code",
   "execution_count": 6,
   "id": "6765d1db",
   "metadata": {},
   "outputs": [
    {
     "data": {
      "text/plain": [
       "<AxesSubplot:xlabel='Survived', ylabel='count'>"
      ]
     },
     "execution_count": 6,
     "metadata": {},
     "output_type": "execute_result"
    },
    {
     "data": {
      "image/png": "[encoded data removed]",
      "text/plain": [
       "<Figure size 432x288 with 1 Axes>"
      ]
     },
     "metadata": {
      "needs_background": "light"
     },
     "output_type": "display_data"
    }
   ],
   "source": [
    " sns.countplot(x=\"Survived\" , data=titanic_data) #histogram counting survived\n",
    "    "
   ]
  },
  {
   "cell_type": "code",
   "execution_count": 7,
   "id": "6580a32f",
   "metadata": {},
   "outputs": [],
   "source": [
    "#sns.countplot(x=\"Survived\", hue=\"Sex\", data=titanic_data)  -> here you might have had hue data as second histogram plot\n",
    "#titanic_data[\"Age\"].plot.hist() -> gives histogram\n",
    "#sns.countplot(x=\"SibSp\", data=titanic_data)"
   ]
  },
  {
   "cell_type": "markdown",
   "id": "7330781b",
   "metadata": {},
   "source": [
    "## Data Wrangling\n"
   ]
  },
  {
   "cell_type": "code",
   "execution_count": 8,
   "id": "70bdc429",
   "metadata": {},
   "outputs": [],
   "source": [
    "#titanic_data.isnull().sum() -> sum of all null \n",
    "# sns.heatmap(titanic_data.isnull(), yticklabels==False, cmap=\"viridis\") -> gives the heatmap with null values \n",
    "# sns.boxplt(x=\"Pclass\", y=\"Age\" ,data=titanic_data) -> give boxplot\n",
    "#titanic_data.drop(\"Cabin, axis=1, inplace=True\") -> to remove a column\n",
    "titanic_data.dropna(inplace=True) #drop all nan values WE CLEAN DATA SET\n"
   ]
  },
  {
   "cell_type": "code",
   "execution_count": 10,
   "id": "b26b1960",
   "metadata": {},
   "outputs": [
    {
     "data": {
      "text/plain": [
       "<AxesSubplot:>"
      ]
     },
     "execution_count": 10,
     "metadata": {},
     "output_type": "execute_result"
    },
    {
     "data": {
      "image/png": "[encoded data removed]",
      "text/plain": [
       "<Figure size 432x288 with 1 Axes>"
      ]
     },
     "metadata": {
      "needs_background": "light"
     },
     "output_type": "display_data"
    }
   ],
   "source": [
    "sns.heatmap(titanic_data.isnull(), yticklabels=False, cbar=False) "
   ]
  },
  {
   "cell_type": "code",
   "execution_count": null,
   "id": "8036c120",
   "metadata": {},
   "outputs": [],
   "source": [
    "#sex=pd.get_dummies(titanic_data[\"Sex\"], drop_first=\"True\") =>will give the female male thing as 0/1 values, also remove first female column bcz male only is enough to see true or false "
   ]
  },
  {
   "cell_type": "code",
   "execution_count": 14,
   "id": "0e1a4d90",
   "metadata": {},
   "outputs": [],
   "source": [
    "#like that u clean the data and get only needed columns \n",
    "#titanic_data= pd.concat([titanic_data,sex, embark],axis=1)\n",
    "#that above just appends the data to the set\n",
    "#now we drop all the unnceesary columsn whcih are ont 0/1\n",
    "titanic_data.drop([\"PassengerId\"], axis=1, inplace=True)"
   ]
  },
  {
   "cell_type": "markdown",
   "id": "6b70db5a",
   "metadata": {},
   "source": [
    "##Train data"
   ]
  },
  {
   "cell_type": "code",
   "execution_count": null,
   "id": "2e9fa518",
   "metadata": {},
   "outputs": [],
   "source": [
    "x=titanice_data.drop(\"Survived\", axis=1) #after this everything else is independent variable\n",
    "y=titanic_data[\"Survived\"] #data that we predict"
   ]
  },
  {
   "cell_type": "code",
   "execution_count": 19,
   "id": "bc59b423",
   "metadata": {},
   "outputs": [],
   "source": [
    "from sklearn.model_selection import train_test_split #instead of cross_validation use model_seleciotn"
   ]
  },
  {
   "cell_type": "code",
   "execution_count": null,
   "id": "b84f0e35",
   "metadata": {},
   "outputs": [],
   "source": [
    "#x_train, x_text, y_train, y_test = train_test_split(x, y, test_size=0.3, random_state=1 )# x is independent var, test size means 70/30 ratio , radndom state makes sure he take same smaple each time"
   ]
  },
  {
   "cell_type": "code",
   "execution_count": 21,
   "id": "8896baed",
   "metadata": {},
   "outputs": [],
   "source": [
    "from sklearn.linear_model import LogisticRegression"
   ]
  },
  {
   "cell_type": "code",
   "execution_count": 22,
   "id": "3e87b58b",
   "metadata": {},
   "outputs": [],
   "source": [
    "logmodel=LogisticRegression()"
   ]
  },
  {
   "cell_type": "code",
   "execution_count": null,
   "id": "375772ea",
   "metadata": {},
   "outputs": [],
   "source": [
    "logmodel.fit(x_train, y_train)\n",
    "predictions=logmodel.predict(x_test) # u predict from x test and gte y test results and fit it to training data\n",
    "from sklearn.metrics import classification_report\n",
    "classification_report(y_test, predictions) #now u check the accuracy and stuff\n",
    "from sklearn.metrics import confusion_matrix # for checking with matrix\n",
    "confusion_matrix(y_test, predictions) # pn / py / actual no / actural yes 2x2 matrix / check cross values an+pn -> we are accurate\n",
    "from sklearn.metrics import accuracy_score\n",
    "accuracy_score(y_test, predictions)*100"
   ]
  },
  {
   "cell_type": "markdown",
   "id": "270068ec",
   "metadata": {},
   "source": [
    "#SUV Predictions"
   ]
  },
  {
   "cell_type": "code",
   "execution_count": 32,
   "id": "c24f4b94",
   "metadata": {},
   "outputs": [],
   "source": [
    "import numpy as np\n",
    "import matplotlib.pyplot as plt\n",
    "import pandas as pd\n",
    "%matplotlib inline\n",
    "dataset=pd.read_csv(\"suv_data.csv\")"
   ]
  },
  {
   "cell_type": "code",
   "execution_count": 35,
   "id": "8717db1d",
   "metadata": {},
   "outputs": [],
   "source": [
    "x=dataset.iloc[:,[2,3]].values #here the column should fetch all the rows/ only 2nd 3rd column independent values\n",
    "y=dataset.iloc[:,4] #here this is the dependent value \n",
    "from sklearn.model_selection import train_test_split \n",
    "x_train, x_test, y_train, y_test = train_test_split (x,y, test_size=0.25, random_state=0)\n",
    "from sklearn.preprocessing import StandardScaler #scale down the large dataset\n",
    "sc=StandardScaler()\n",
    "x_train=sc.fit_transform(x_train) # we transform the data to smaller part\n",
    "x_test=sc.transform(x_test)"
   ]
  },
  {
   "cell_type": "code",
   "execution_count": 36,
   "id": "b281dbb1",
   "metadata": {},
   "outputs": [
    {
     "data": {
      "text/plain": [
       "LogisticRegression(random_state=0)"
      ]
     },
     "execution_count": 36,
     "metadata": {},
     "output_type": "execute_result"
    }
   ],
   "source": [
    "from sklearn.linear_model import LogisticRegression\n",
    "classifier=LogisticRegression(random_state=0)\n",
    "classifier.fit(x_train,y_train) #we fit it to the training solutions\n",
    " "
   ]
  },
  {
   "cell_type": "code",
   "execution_count": 38,
   "id": "aa4abc1d",
   "metadata": {},
   "outputs": [
    {
     "data": {
      "text/plain": [
       "89.0"
      ]
     },
     "execution_count": 38,
     "metadata": {},
     "output_type": "execute_result"
    }
   ],
   "source": [
    "ypred=classifier.predict(x_test)\n",
    "from sklearn.metrics import accuracy_score\n",
    "accuracy_score(y_test,ypred)*100\n"
   ]
  },
  {
   "cell_type": "code",
   "execution_count": null,
   "id": "72ff9490",
   "metadata": {},
   "outputs": [],
   "source": []
  }
 ],
 "metadata": {
  "kernelspec": {
   "display_name": "Python 3 (ipykernel)",
   "language": "python",
   "name": "python3"
  },
  "language_info": {
   "codemirror_mode": {
    "name": "ipython",
    "version": 3
   },
   "file_extension": ".py",
   "mimetype": "text/x-python",
   "name": "python",
   "nbconvert_exporter": "python",
   "pygments_lexer": "ipython3",
   "version": "3.9.12"
  }
 },
 "nbformat": 4,
 "nbformat_minor": 5
}
